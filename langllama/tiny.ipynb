{
 "cells": [
  {
   "cell_type": "code",
   "execution_count": 3,
   "metadata": {},
   "outputs": [],
   "source": [
    "# Install transformers from source - only needed for versions <= v4.34\n",
    "# pip install git+https://github.com/huggingface/transformers.git\n",
    "# pip install accelerate\n",
    "\n",
    "import torch\n",
    "from transformers import pipeline\n",
    "\n",
    "pipe = pipeline(\"text-generation\", model=\"TinyLlama/TinyLlama-1.1B-Chat-v1.0\", torch_dtype=torch.bfloat16, device_map=\"auto\")"
   ]
  },
  {
   "cell_type": "code",
   "execution_count": 4,
   "metadata": {},
   "outputs": [
    {
     "name": "stdout",
     "output_type": "stream",
     "text": [
      "<|system|>\n",
      "You are a friendly chatbot who always responds in the style of a pirate</s>\n",
      "<|user|>\n",
      "Tell me the difference between apples and bananas!</s>\n",
      "<|assistant|>\n",
      "Sure! Apples and bananas are both fruits, but they are quite different in terms of their taste, texture, and nutritional value. \n",
      "\n",
      "Apples: Apples are known for their juicy texture, sweet flavor, and high levels of vitamin C. They are also a good source of fiber, potassium, and antioxidants. Apples are typically eaten fresh or used in cooking, such as in apple pie or apple crumble.\n",
      "\n",
      "Bananas: Bananas are a starchy fruit that are often used in baking and can be eaten as is or added to smoothies or yogurt. Bananas are also a good source of potassium, vitamin C, and fiber. They are commonly grown in warm climates and can grow to be quite large.\n",
      "\n",
      "In terms of nutritional value, apples are higher in fiber, potassium, and vitamin C, while bananas are higher in potassium, vitamin C, and fiber.\n",
      "\n",
      "Hope this helps! Let me know if you have any other questions.\n"
     ]
    }
   ],
   "source": [
    "# We use the tokenizer's chat template to format each message - see https://huggingface.co/docs/transformers/main/en/chat_templating\n",
    "messages = [\n",
    "    {\n",
    "        \"role\": \"system\",\n",
    "        \"content\": \"You are a friendly chatbot who always responds in the style of a pirate\",\n",
    "    },\n",
    "    {\"role\": \"user\", \"content\": \"Tell me the difference between apples and bananas!\"},\n",
    "]\n",
    "\n",
    "prompt = pipe.tokenizer.apply_chat_template(messages, tokenize=False, add_generation_prompt=True)\n",
    "\n",
    "outputs = pipe(prompt, max_new_tokens=256, do_sample=True, temperature=0.7, top_k=50, top_p=0.95)"
   ]
  },
  {
   "cell_type": "code",
   "execution_count": 5,
   "metadata": {},
   "outputs": [
    {
     "name": "stdout",
     "output_type": "stream",
     "text": [
      "<|system|>\n",
      "You are a friendly chatbot who always responds in the style of a pirate</s>\n",
      "<|user|>\n",
      "Tell me the difference between apples and bananas!</s>\n",
      "<|assistant|>\n",
      "Sure! Apples and bananas are both fruits, but they are quite different in terms of their taste, texture, and nutritional value. \n",
      "\n",
      "Apples: Apples are known for their juicy texture, sweet flavor, and high levels of vitamin C. They are also a good source of fiber, potassium, and antioxidants. Apples are typically eaten fresh or used in cooking, such as in apple pie or apple crumble.\n",
      "\n",
      "Bananas: Bananas are a starchy fruit that are often used in baking and can be eaten as is or added to smoothies or yogurt. Bananas are also a good source of potassium, vitamin C, and fiber. They are commonly grown in warm climates and can grow to be quite large.\n",
      "\n",
      "In terms of nutritional value, apples are higher in fiber, potassium, and vitamin C, while bananas are higher in potassium, vitamin C, and fiber.\n",
      "\n",
      "Hope this helps! Let me know if you have any other questions.\n"
     ]
    }
   ],
   "source": [
    "print(outputs[0][\"generated_text\"])"
   ]
  },
  {
   "cell_type": "code",
   "execution_count": null,
   "metadata": {},
   "outputs": [],
   "source": []
  }
 ],
 "metadata": {
  "kernelspec": {
   "display_name": "tiny",
   "language": "python",
   "name": "python3"
  },
  "language_info": {
   "codemirror_mode": {
    "name": "ipython",
    "version": 3
   },
   "file_extension": ".py",
   "mimetype": "text/x-python",
   "name": "python",
   "nbconvert_exporter": "python",
   "pygments_lexer": "ipython3",
   "version": "3.10.6"
  }
 },
 "nbformat": 4,
 "nbformat_minor": 2
}
